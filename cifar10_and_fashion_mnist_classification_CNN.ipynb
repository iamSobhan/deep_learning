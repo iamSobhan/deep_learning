{
 "cells": [
  {
   "cell_type": "markdown",
   "metadata": {},
   "source": [
    "<b>CIFAR10</b>"
   ]
  },
  {
   "cell_type": "code",
   "execution_count": 1,
   "metadata": {},
   "outputs": [
    {
     "name": "stderr",
     "output_type": "stream",
     "text": [
      "C:\\Users\\Sobhan\\anaconda3\\lib\\site-packages\\pandas\\core\\computation\\expressions.py:20: UserWarning: Pandas requires version '2.7.3' or newer of 'numexpr' (version '2.7.1' currently installed).\n",
      "  from pandas.core.computation.check import NUMEXPR_INSTALLED\n"
     ]
    }
   ],
   "source": [
    "import numpy as np\n",
    "import tensorflow as tf\n",
    "from tensorflow.keras import datasets, layers, models\n",
    "import matplotlib.pyplot as plt"
   ]
  },
  {
   "cell_type": "code",
   "execution_count": 2,
   "metadata": {},
   "outputs": [],
   "source": [
    "(X_train, y_train), (X_test,y_test) = datasets.cifar10.load_data()"
   ]
  },
  {
   "cell_type": "code",
   "execution_count": 3,
   "metadata": {},
   "outputs": [
    {
     "data": {
      "text/plain": [
       "(50000, 32, 32, 3)"
      ]
     },
     "execution_count": 3,
     "metadata": {},
     "output_type": "execute_result"
    }
   ],
   "source": [
    "X_train.shape"
   ]
  },
  {
   "cell_type": "code",
   "execution_count": 4,
   "metadata": {},
   "outputs": [
    {
     "data": {
      "text/plain": [
       "(10000, 32, 32, 3)"
      ]
     },
     "execution_count": 4,
     "metadata": {},
     "output_type": "execute_result"
    }
   ],
   "source": [
    "X_test.shape"
   ]
  },
  {
   "cell_type": "code",
   "execution_count": 5,
   "metadata": {},
   "outputs": [
    {
     "data": {
      "text/plain": [
       "(50000, 1)"
      ]
     },
     "execution_count": 5,
     "metadata": {},
     "output_type": "execute_result"
    }
   ],
   "source": [
    "y_train.shape"
   ]
  },
  {
   "cell_type": "code",
   "execution_count": 6,
   "metadata": {},
   "outputs": [
    {
     "data": {
      "text/plain": [
       "array([[6],\n",
       "       [9],\n",
       "       [9]], dtype=uint8)"
      ]
     },
     "execution_count": 6,
     "metadata": {},
     "output_type": "execute_result"
    }
   ],
   "source": [
    "y_train[:3]"
   ]
  },
  {
   "cell_type": "code",
   "execution_count": 7,
   "metadata": {},
   "outputs": [],
   "source": [
    "y_train = y_train.reshape(-1,)"
   ]
  },
  {
   "cell_type": "code",
   "execution_count": 8,
   "metadata": {},
   "outputs": [
    {
     "data": {
      "text/plain": [
       "array([6, 9, 9], dtype=uint8)"
      ]
     },
     "execution_count": 8,
     "metadata": {},
     "output_type": "execute_result"
    }
   ],
   "source": [
    "y_train[:3]"
   ]
  },
  {
   "cell_type": "code",
   "execution_count": 9,
   "metadata": {},
   "outputs": [
    {
     "data": {
      "text/plain": [
       "array([[3],\n",
       "       [8],\n",
       "       [8]], dtype=uint8)"
      ]
     },
     "execution_count": 9,
     "metadata": {},
     "output_type": "execute_result"
    }
   ],
   "source": [
    "y_test[:3]"
   ]
  },
  {
   "cell_type": "code",
   "execution_count": 10,
   "metadata": {},
   "outputs": [],
   "source": [
    "y_test = y_test.reshape(-1,)"
   ]
  },
  {
   "cell_type": "code",
   "execution_count": 11,
   "metadata": {},
   "outputs": [
    {
     "data": {
      "text/plain": [
       "array([3, 8, 8], dtype=uint8)"
      ]
     },
     "execution_count": 11,
     "metadata": {},
     "output_type": "execute_result"
    }
   ],
   "source": [
    "y_test[:3]"
   ]
  },
  {
   "cell_type": "code",
   "execution_count": 12,
   "metadata": {},
   "outputs": [],
   "source": [
    "classes = [\"airplane\",\"automobile\",\"bird\",\"cat\",\"deer\",\"dog\",\"frog\",\"horse\",\"ship\",\"truck\"]"
   ]
  },
  {
   "cell_type": "code",
   "execution_count": 13,
   "metadata": {},
   "outputs": [],
   "source": [
    "def plot_sample(X, y, index):\n",
    "    plt.figure(figsize = (5,2))\n",
    "    plt.imshow(X[index])\n",
    "    plt.xlabel(classes[y[index]])"
   ]
  },
  {
   "cell_type": "code",
   "execution_count": 14,
   "metadata": {},
   "outputs": [
    {
     "data": {
      "image/png": "[encoded data removed]",
      "text/plain": [
       "<Figure size 360x144 with 1 Axes>"
      ]
     },
     "metadata": {
      "needs_background": "light"
     },
     "output_type": "display_data"
    }
   ],
   "source": [
    "plot_sample(X_train, y_train, 0)"
   ]
  },
  {
   "cell_type": "code",
   "execution_count": 15,
   "metadata": {},
   "outputs": [
    {
     "data": {
      "image/png": "[encoded data removed]",
      "text/plain": [
       "<Figure size 360x144 with 1 Axes>"
      ]
     },
     "metadata": {
      "needs_background": "light"
     },
     "output_type": "display_data"
    }
   ],
   "source": [
    "plot_sample(X_train, y_train, 1)"
   ]
  },
  {
   "cell_type": "code",
   "execution_count": 16,
   "metadata": {},
   "outputs": [
    {
     "data": {
      "image/png": "[encoded data removed]",
      "text/plain": [
       "<Figure size 360x144 with 1 Axes>"
      ]
     },
     "metadata": {
      "needs_background": "light"
     },
     "output_type": "display_data"
    }
   ],
   "source": [
    "plot_sample(X_train, y_train, 5)"
   ]
  },
  {
   "cell_type": "code",
   "execution_count": 17,
   "metadata": {},
   "outputs": [
    {
     "data": {
      "text/plain": [
       "(array([[[[ 59,  62,  63],\n",
       "          [ 43,  46,  45],\n",
       "          [ 50,  48,  43],\n",
       "          ...,\n",
       "          [158, 132, 108],\n",
       "          [152, 125, 102],\n",
       "          [148, 124, 103]],\n",
       " \n",
       "         [[ 16,  20,  20],\n",
       "          [  0,   0,   0],\n",
       "          [ 18,   8,   0],\n",
       "          ...,\n",
       "          [123,  88,  55],\n",
       "          [119,  83,  50],\n",
       "          [122,  87,  57]],\n",
       " \n",
       "         [[ 25,  24,  21],\n",
       "          [ 16,   7,   0],\n",
       "          [ 49,  27,   8],\n",
       "          ...,\n",
       "          [118,  84,  50],\n",
       "          [120,  84,  50],\n",
       "          [109,  73,  42]],\n",
       " \n",
       "         ...,\n",
       " \n",
       "         [[208, 170,  96],\n",
       "          [201, 153,  34],\n",
       "          [198, 161,  26],\n",
       "          ...,\n",
       "          [160, 133,  70],\n",
       "          [ 56,  31,   7],\n",
       "          [ 53,  34,  20]],\n",
       " \n",
       "         [[180, 139,  96],\n",
       "          [173, 123,  42],\n",
       "          [186, 144,  30],\n",
       "          ...,\n",
       "          [184, 148,  94],\n",
       "          [ 97,  62,  34],\n",
       "          [ 83,  53,  34]],\n",
       " \n",
       "         [[177, 144, 116],\n",
       "          [168, 129,  94],\n",
       "          [179, 142,  87],\n",
       "          ...,\n",
       "          [216, 184, 140],\n",
       "          [151, 118,  84],\n",
       "          [123,  92,  72]]],\n",
       " \n",
       " \n",
       "        [[[154, 177, 187],\n",
       "          [126, 137, 136],\n",
       "          [105, 104,  95],\n",
       "          ...,\n",
       "          [ 91,  95,  71],\n",
       "          [ 87,  90,  71],\n",
       "          [ 79,  81,  70]],\n",
       " \n",
       "         [[140, 160, 169],\n",
       "          [145, 153, 154],\n",
       "          [125, 125, 118],\n",
       "          ...,\n",
       "          [ 96,  99,  78],\n",
       "          [ 77,  80,  62],\n",
       "          [ 71,  73,  61]],\n",
       " \n",
       "         [[140, 155, 164],\n",
       "          [139, 146, 149],\n",
       "          [115, 115, 112],\n",
       "          ...,\n",
       "          [ 79,  82,  64],\n",
       "          [ 68,  70,  55],\n",
       "          [ 67,  69,  55]],\n",
       " \n",
       "         ...,\n",
       " \n",
       "         [[175, 167, 166],\n",
       "          [156, 154, 160],\n",
       "          [154, 160, 170],\n",
       "          ...,\n",
       "          [ 42,  34,  36],\n",
       "          [ 61,  53,  57],\n",
       "          [ 93,  83,  91]],\n",
       " \n",
       "         [[165, 154, 128],\n",
       "          [156, 152, 130],\n",
       "          [159, 161, 142],\n",
       "          ...,\n",
       "          [103,  93,  96],\n",
       "          [123, 114, 120],\n",
       "          [131, 121, 131]],\n",
       " \n",
       "         [[163, 148, 120],\n",
       "          [158, 148, 122],\n",
       "          [163, 156, 133],\n",
       "          ...,\n",
       "          [143, 133, 139],\n",
       "          [143, 134, 142],\n",
       "          [143, 133, 144]]],\n",
       " \n",
       " \n",
       "        [[[255, 255, 255],\n",
       "          [253, 253, 253],\n",
       "          [253, 253, 253],\n",
       "          ...,\n",
       "          [253, 253, 253],\n",
       "          [253, 253, 253],\n",
       "          [253, 253, 253]],\n",
       " \n",
       "         [[255, 255, 255],\n",
       "          [255, 255, 255],\n",
       "          [255, 255, 255],\n",
       "          ...,\n",
       "          [255, 255, 255],\n",
       "          [255, 255, 255],\n",
       "          [255, 255, 255]],\n",
       " \n",
       "         [[255, 255, 255],\n",
       "          [254, 254, 254],\n",
       "          [254, 254, 254],\n",
       "          ...,\n",
       "          [254, 254, 254],\n",
       "          [254, 254, 254],\n",
       "          [254, 254, 254]],\n",
       " \n",
       "         ...,\n",
       " \n",
       "         [[113, 120, 112],\n",
       "          [111, 118, 111],\n",
       "          [105, 112, 106],\n",
       "          ...,\n",
       "          [ 72,  81,  80],\n",
       "          [ 72,  80,  79],\n",
       "          [ 72,  80,  79]],\n",
       " \n",
       "         [[111, 118, 110],\n",
       "          [104, 111, 104],\n",
       "          [ 99, 106,  98],\n",
       "          ...,\n",
       "          [ 68,  75,  73],\n",
       "          [ 70,  76,  75],\n",
       "          [ 78,  84,  82]],\n",
       " \n",
       "         [[106, 113, 105],\n",
       "          [ 99, 106,  98],\n",
       "          [ 95, 102,  94],\n",
       "          ...,\n",
       "          [ 78,  85,  83],\n",
       "          [ 79,  85,  83],\n",
       "          [ 80,  86,  84]]],\n",
       " \n",
       " \n",
       "        ...,\n",
       " \n",
       " \n",
       "        [[[ 35, 178, 235],\n",
       "          [ 40, 176, 239],\n",
       "          [ 42, 176, 241],\n",
       "          ...,\n",
       "          [ 99, 177, 219],\n",
       "          [ 79, 147, 197],\n",
       "          [ 89, 148, 189]],\n",
       " \n",
       "         [[ 57, 182, 234],\n",
       "          [ 44, 184, 250],\n",
       "          [ 50, 183, 240],\n",
       "          ...,\n",
       "          [156, 182, 200],\n",
       "          [141, 177, 206],\n",
       "          [116, 149, 175]],\n",
       " \n",
       "         [[ 98, 197, 237],\n",
       "          [ 64, 189, 252],\n",
       "          [ 69, 192, 245],\n",
       "          ...,\n",
       "          [188, 195, 206],\n",
       "          [119, 135, 147],\n",
       "          [ 61,  79,  90]],\n",
       " \n",
       "         ...,\n",
       " \n",
       "         [[ 73,  79,  77],\n",
       "          [ 53,  63,  68],\n",
       "          [ 54,  68,  80],\n",
       "          ...,\n",
       "          [ 17,  40,  64],\n",
       "          [ 21,  36,  51],\n",
       "          [ 33,  48,  49]],\n",
       " \n",
       "         [[ 61,  68,  75],\n",
       "          [ 55,  70,  86],\n",
       "          [ 57,  79, 103],\n",
       "          ...,\n",
       "          [ 24,  48,  72],\n",
       "          [ 17,  35,  53],\n",
       "          [  7,  23,  32]],\n",
       " \n",
       "         [[ 44,  56,  73],\n",
       "          [ 46,  66,  88],\n",
       "          [ 49,  77, 105],\n",
       "          ...,\n",
       "          [ 27,  52,  77],\n",
       "          [ 21,  43,  66],\n",
       "          [ 12,  31,  50]]],\n",
       " \n",
       " \n",
       "        [[[189, 211, 240],\n",
       "          [186, 208, 236],\n",
       "          [185, 207, 235],\n",
       "          ...,\n",
       "          [175, 195, 224],\n",
       "          [172, 194, 222],\n",
       "          [169, 194, 220]],\n",
       " \n",
       "         [[194, 210, 239],\n",
       "          [191, 207, 236],\n",
       "          [190, 206, 235],\n",
       "          ...,\n",
       "          [173, 192, 220],\n",
       "          [171, 191, 218],\n",
       "          [167, 190, 216]],\n",
       " \n",
       "         [[208, 219, 244],\n",
       "          [205, 216, 240],\n",
       "          [204, 215, 239],\n",
       "          ...,\n",
       "          [175, 191, 217],\n",
       "          [172, 190, 216],\n",
       "          [169, 191, 215]],\n",
       " \n",
       "         ...,\n",
       " \n",
       "         [[207, 199, 181],\n",
       "          [203, 195, 175],\n",
       "          [203, 196, 173],\n",
       "          ...,\n",
       "          [135, 132, 127],\n",
       "          [162, 158, 150],\n",
       "          [168, 163, 151]],\n",
       " \n",
       "         [[198, 190, 170],\n",
       "          [189, 181, 159],\n",
       "          [180, 172, 147],\n",
       "          ...,\n",
       "          [178, 171, 160],\n",
       "          [175, 169, 156],\n",
       "          [175, 169, 154]],\n",
       " \n",
       "         [[198, 189, 173],\n",
       "          [189, 181, 162],\n",
       "          [178, 170, 149],\n",
       "          ...,\n",
       "          [195, 184, 169],\n",
       "          [196, 189, 171],\n",
       "          [195, 190, 171]]],\n",
       " \n",
       " \n",
       "        [[[229, 229, 239],\n",
       "          [236, 237, 247],\n",
       "          [234, 236, 247],\n",
       "          ...,\n",
       "          [217, 219, 233],\n",
       "          [221, 223, 234],\n",
       "          [222, 223, 233]],\n",
       " \n",
       "         [[222, 221, 229],\n",
       "          [239, 239, 249],\n",
       "          [233, 234, 246],\n",
       "          ...,\n",
       "          [223, 223, 236],\n",
       "          [227, 228, 238],\n",
       "          [210, 211, 220]],\n",
       " \n",
       "         [[213, 206, 211],\n",
       "          [234, 232, 239],\n",
       "          [231, 233, 244],\n",
       "          ...,\n",
       "          [220, 220, 232],\n",
       "          [220, 219, 232],\n",
       "          [202, 203, 215]],\n",
       " \n",
       "         ...,\n",
       " \n",
       "         [[150, 143, 135],\n",
       "          [140, 135, 127],\n",
       "          [132, 127, 120],\n",
       "          ...,\n",
       "          [224, 222, 218],\n",
       "          [230, 228, 225],\n",
       "          [241, 241, 238]],\n",
       " \n",
       "         [[137, 132, 126],\n",
       "          [130, 127, 120],\n",
       "          [125, 121, 115],\n",
       "          ...,\n",
       "          [181, 180, 178],\n",
       "          [202, 201, 198],\n",
       "          [212, 211, 207]],\n",
       " \n",
       "         [[122, 119, 114],\n",
       "          [118, 116, 110],\n",
       "          [120, 116, 111],\n",
       "          ...,\n",
       "          [179, 177, 173],\n",
       "          [164, 164, 162],\n",
       "          [163, 163, 161]]]], dtype=uint8),\n",
       " array([6, 9, 9, ..., 9, 1, 1], dtype=uint8),\n",
       " [5])"
      ]
     },
     "execution_count": 17,
     "metadata": {},
     "output_type": "execute_result"
    }
   ],
   "source": [
    "(X_train, y_train, [5])"
   ]
  },
  {
   "cell_type": "code",
   "execution_count": 18,
   "metadata": {},
   "outputs": [],
   "source": [
    "X_train = X_train / 255.0\n",
    "\n",
    "X_test = X_test / 255.0"
   ]
  },
  {
   "cell_type": "code",
   "execution_count": 19,
   "metadata": {},
   "outputs": [
    {
     "data": {
      "text/plain": [
       "(array([[[[0.23137255, 0.24313725, 0.24705882],\n",
       "          [0.16862745, 0.18039216, 0.17647059],\n",
       "          [0.19607843, 0.18823529, 0.16862745],\n",
       "          ...,\n",
       "          [0.61960784, 0.51764706, 0.42352941],\n",
       "          [0.59607843, 0.49019608, 0.4       ],\n",
       "          [0.58039216, 0.48627451, 0.40392157]],\n",
       " \n",
       "         [[0.0627451 , 0.07843137, 0.07843137],\n",
       "          [0.        , 0.        , 0.        ],\n",
       "          [0.07058824, 0.03137255, 0.        ],\n",
       "          ...,\n",
       "          [0.48235294, 0.34509804, 0.21568627],\n",
       "          [0.46666667, 0.3254902 , 0.19607843],\n",
       "          [0.47843137, 0.34117647, 0.22352941]],\n",
       " \n",
       "         [[0.09803922, 0.09411765, 0.08235294],\n",
       "          [0.0627451 , 0.02745098, 0.        ],\n",
       "          [0.19215686, 0.10588235, 0.03137255],\n",
       "          ...,\n",
       "          [0.4627451 , 0.32941176, 0.19607843],\n",
       "          [0.47058824, 0.32941176, 0.19607843],\n",
       "          [0.42745098, 0.28627451, 0.16470588]],\n",
       " \n",
       "         ...,\n",
       " \n",
       "         [[0.81568627, 0.66666667, 0.37647059],\n",
       "          [0.78823529, 0.6       , 0.13333333],\n",
       "          [0.77647059, 0.63137255, 0.10196078],\n",
       "          ...,\n",
       "          [0.62745098, 0.52156863, 0.2745098 ],\n",
       "          [0.21960784, 0.12156863, 0.02745098],\n",
       "          [0.20784314, 0.13333333, 0.07843137]],\n",
       " \n",
       "         [[0.70588235, 0.54509804, 0.37647059],\n",
       "          [0.67843137, 0.48235294, 0.16470588],\n",
       "          [0.72941176, 0.56470588, 0.11764706],\n",
       "          ...,\n",
       "          [0.72156863, 0.58039216, 0.36862745],\n",
       "          [0.38039216, 0.24313725, 0.13333333],\n",
       "          [0.3254902 , 0.20784314, 0.13333333]],\n",
       " \n",
       "         [[0.69411765, 0.56470588, 0.45490196],\n",
       "          [0.65882353, 0.50588235, 0.36862745],\n",
       "          [0.70196078, 0.55686275, 0.34117647],\n",
       "          ...,\n",
       "          [0.84705882, 0.72156863, 0.54901961],\n",
       "          [0.59215686, 0.4627451 , 0.32941176],\n",
       "          [0.48235294, 0.36078431, 0.28235294]]],\n",
       " \n",
       " \n",
       "        [[[0.60392157, 0.69411765, 0.73333333],\n",
       "          [0.49411765, 0.5372549 , 0.53333333],\n",
       "          [0.41176471, 0.40784314, 0.37254902],\n",
       "          ...,\n",
       "          [0.35686275, 0.37254902, 0.27843137],\n",
       "          [0.34117647, 0.35294118, 0.27843137],\n",
       "          [0.30980392, 0.31764706, 0.2745098 ]],\n",
       " \n",
       "         [[0.54901961, 0.62745098, 0.6627451 ],\n",
       "          [0.56862745, 0.6       , 0.60392157],\n",
       "          [0.49019608, 0.49019608, 0.4627451 ],\n",
       "          ...,\n",
       "          [0.37647059, 0.38823529, 0.30588235],\n",
       "          [0.30196078, 0.31372549, 0.24313725],\n",
       "          [0.27843137, 0.28627451, 0.23921569]],\n",
       " \n",
       "         [[0.54901961, 0.60784314, 0.64313725],\n",
       "          [0.54509804, 0.57254902, 0.58431373],\n",
       "          [0.45098039, 0.45098039, 0.43921569],\n",
       "          ...,\n",
       "          [0.30980392, 0.32156863, 0.25098039],\n",
       "          [0.26666667, 0.2745098 , 0.21568627],\n",
       "          [0.2627451 , 0.27058824, 0.21568627]],\n",
       " \n",
       "         ...,\n",
       " \n",
       "         [[0.68627451, 0.65490196, 0.65098039],\n",
       "          [0.61176471, 0.60392157, 0.62745098],\n",
       "          [0.60392157, 0.62745098, 0.66666667],\n",
       "          ...,\n",
       "          [0.16470588, 0.13333333, 0.14117647],\n",
       "          [0.23921569, 0.20784314, 0.22352941],\n",
       "          [0.36470588, 0.3254902 , 0.35686275]],\n",
       " \n",
       "         [[0.64705882, 0.60392157, 0.50196078],\n",
       "          [0.61176471, 0.59607843, 0.50980392],\n",
       "          [0.62352941, 0.63137255, 0.55686275],\n",
       "          ...,\n",
       "          [0.40392157, 0.36470588, 0.37647059],\n",
       "          [0.48235294, 0.44705882, 0.47058824],\n",
       "          [0.51372549, 0.4745098 , 0.51372549]],\n",
       " \n",
       "         [[0.63921569, 0.58039216, 0.47058824],\n",
       "          [0.61960784, 0.58039216, 0.47843137],\n",
       "          [0.63921569, 0.61176471, 0.52156863],\n",
       "          ...,\n",
       "          [0.56078431, 0.52156863, 0.54509804],\n",
       "          [0.56078431, 0.5254902 , 0.55686275],\n",
       "          [0.56078431, 0.52156863, 0.56470588]]],\n",
       " \n",
       " \n",
       "        [[[1.        , 1.        , 1.        ],\n",
       "          [0.99215686, 0.99215686, 0.99215686],\n",
       "          [0.99215686, 0.99215686, 0.99215686],\n",
       "          ...,\n",
       "          [0.99215686, 0.99215686, 0.99215686],\n",
       "          [0.99215686, 0.99215686, 0.99215686],\n",
       "          [0.99215686, 0.99215686, 0.99215686]],\n",
       " \n",
       "         [[1.        , 1.        , 1.        ],\n",
       "          [1.        , 1.        , 1.        ],\n",
       "          [1.        , 1.        , 1.        ],\n",
       "          ...,\n",
       "          [1.        , 1.        , 1.        ],\n",
       "          [1.        , 1.        , 1.        ],\n",
       "          [1.        , 1.        , 1.        ]],\n",
       " \n",
       "         [[1.        , 1.        , 1.        ],\n",
       "          [0.99607843, 0.99607843, 0.99607843],\n",
       "          [0.99607843, 0.99607843, 0.99607843],\n",
       "          ...,\n",
       "          [0.99607843, 0.99607843, 0.99607843],\n",
       "          [0.99607843, 0.99607843, 0.99607843],\n",
       "          [0.99607843, 0.99607843, 0.99607843]],\n",
       " \n",
       "         ...,\n",
       " \n",
       "         [[0.44313725, 0.47058824, 0.43921569],\n",
       "          [0.43529412, 0.4627451 , 0.43529412],\n",
       "          [0.41176471, 0.43921569, 0.41568627],\n",
       "          ...,\n",
       "          [0.28235294, 0.31764706, 0.31372549],\n",
       "          [0.28235294, 0.31372549, 0.30980392],\n",
       "          [0.28235294, 0.31372549, 0.30980392]],\n",
       " \n",
       "         [[0.43529412, 0.4627451 , 0.43137255],\n",
       "          [0.40784314, 0.43529412, 0.40784314],\n",
       "          [0.38823529, 0.41568627, 0.38431373],\n",
       "          ...,\n",
       "          [0.26666667, 0.29411765, 0.28627451],\n",
       "          [0.2745098 , 0.29803922, 0.29411765],\n",
       "          [0.30588235, 0.32941176, 0.32156863]],\n",
       " \n",
       "         [[0.41568627, 0.44313725, 0.41176471],\n",
       "          [0.38823529, 0.41568627, 0.38431373],\n",
       "          [0.37254902, 0.4       , 0.36862745],\n",
       "          ...,\n",
       "          [0.30588235, 0.33333333, 0.3254902 ],\n",
       "          [0.30980392, 0.33333333, 0.3254902 ],\n",
       "          [0.31372549, 0.3372549 , 0.32941176]]],\n",
       " \n",
       " \n",
       "        ...,\n",
       " \n",
       " \n",
       "        [[[0.1372549 , 0.69803922, 0.92156863],\n",
       "          [0.15686275, 0.69019608, 0.9372549 ],\n",
       "          [0.16470588, 0.69019608, 0.94509804],\n",
       "          ...,\n",
       "          [0.38823529, 0.69411765, 0.85882353],\n",
       "          [0.30980392, 0.57647059, 0.77254902],\n",
       "          [0.34901961, 0.58039216, 0.74117647]],\n",
       " \n",
       "         [[0.22352941, 0.71372549, 0.91764706],\n",
       "          [0.17254902, 0.72156863, 0.98039216],\n",
       "          [0.19607843, 0.71764706, 0.94117647],\n",
       "          ...,\n",
       "          [0.61176471, 0.71372549, 0.78431373],\n",
       "          [0.55294118, 0.69411765, 0.80784314],\n",
       "          [0.45490196, 0.58431373, 0.68627451]],\n",
       " \n",
       "         [[0.38431373, 0.77254902, 0.92941176],\n",
       "          [0.25098039, 0.74117647, 0.98823529],\n",
       "          [0.27058824, 0.75294118, 0.96078431],\n",
       "          ...,\n",
       "          [0.7372549 , 0.76470588, 0.80784314],\n",
       "          [0.46666667, 0.52941176, 0.57647059],\n",
       "          [0.23921569, 0.30980392, 0.35294118]],\n",
       " \n",
       "         ...,\n",
       " \n",
       "         [[0.28627451, 0.30980392, 0.30196078],\n",
       "          [0.20784314, 0.24705882, 0.26666667],\n",
       "          [0.21176471, 0.26666667, 0.31372549],\n",
       "          ...,\n",
       "          [0.06666667, 0.15686275, 0.25098039],\n",
       "          [0.08235294, 0.14117647, 0.2       ],\n",
       "          [0.12941176, 0.18823529, 0.19215686]],\n",
       " \n",
       "         [[0.23921569, 0.26666667, 0.29411765],\n",
       "          [0.21568627, 0.2745098 , 0.3372549 ],\n",
       "          [0.22352941, 0.30980392, 0.40392157],\n",
       "          ...,\n",
       "          [0.09411765, 0.18823529, 0.28235294],\n",
       "          [0.06666667, 0.1372549 , 0.20784314],\n",
       "          [0.02745098, 0.09019608, 0.1254902 ]],\n",
       " \n",
       "         [[0.17254902, 0.21960784, 0.28627451],\n",
       "          [0.18039216, 0.25882353, 0.34509804],\n",
       "          [0.19215686, 0.30196078, 0.41176471],\n",
       "          ...,\n",
       "          [0.10588235, 0.20392157, 0.30196078],\n",
       "          [0.08235294, 0.16862745, 0.25882353],\n",
       "          [0.04705882, 0.12156863, 0.19607843]]],\n",
       " \n",
       " \n",
       "        [[[0.74117647, 0.82745098, 0.94117647],\n",
       "          [0.72941176, 0.81568627, 0.9254902 ],\n",
       "          [0.7254902 , 0.81176471, 0.92156863],\n",
       "          ...,\n",
       "          [0.68627451, 0.76470588, 0.87843137],\n",
       "          [0.6745098 , 0.76078431, 0.87058824],\n",
       "          [0.6627451 , 0.76078431, 0.8627451 ]],\n",
       " \n",
       "         [[0.76078431, 0.82352941, 0.9372549 ],\n",
       "          [0.74901961, 0.81176471, 0.9254902 ],\n",
       "          [0.74509804, 0.80784314, 0.92156863],\n",
       "          ...,\n",
       "          [0.67843137, 0.75294118, 0.8627451 ],\n",
       "          [0.67058824, 0.74901961, 0.85490196],\n",
       "          [0.65490196, 0.74509804, 0.84705882]],\n",
       " \n",
       "         [[0.81568627, 0.85882353, 0.95686275],\n",
       "          [0.80392157, 0.84705882, 0.94117647],\n",
       "          [0.8       , 0.84313725, 0.9372549 ],\n",
       "          ...,\n",
       "          [0.68627451, 0.74901961, 0.85098039],\n",
       "          [0.6745098 , 0.74509804, 0.84705882],\n",
       "          [0.6627451 , 0.74901961, 0.84313725]],\n",
       " \n",
       "         ...,\n",
       " \n",
       "         [[0.81176471, 0.78039216, 0.70980392],\n",
       "          [0.79607843, 0.76470588, 0.68627451],\n",
       "          [0.79607843, 0.76862745, 0.67843137],\n",
       "          ...,\n",
       "          [0.52941176, 0.51764706, 0.49803922],\n",
       "          [0.63529412, 0.61960784, 0.58823529],\n",
       "          [0.65882353, 0.63921569, 0.59215686]],\n",
       " \n",
       "         [[0.77647059, 0.74509804, 0.66666667],\n",
       "          [0.74117647, 0.70980392, 0.62352941],\n",
       "          [0.70588235, 0.6745098 , 0.57647059],\n",
       "          ...,\n",
       "          [0.69803922, 0.67058824, 0.62745098],\n",
       "          [0.68627451, 0.6627451 , 0.61176471],\n",
       "          [0.68627451, 0.6627451 , 0.60392157]],\n",
       " \n",
       "         [[0.77647059, 0.74117647, 0.67843137],\n",
       "          [0.74117647, 0.70980392, 0.63529412],\n",
       "          [0.69803922, 0.66666667, 0.58431373],\n",
       "          ...,\n",
       "          [0.76470588, 0.72156863, 0.6627451 ],\n",
       "          [0.76862745, 0.74117647, 0.67058824],\n",
       "          [0.76470588, 0.74509804, 0.67058824]]],\n",
       " \n",
       " \n",
       "        [[[0.89803922, 0.89803922, 0.9372549 ],\n",
       "          [0.9254902 , 0.92941176, 0.96862745],\n",
       "          [0.91764706, 0.9254902 , 0.96862745],\n",
       "          ...,\n",
       "          [0.85098039, 0.85882353, 0.91372549],\n",
       "          [0.86666667, 0.8745098 , 0.91764706],\n",
       "          [0.87058824, 0.8745098 , 0.91372549]],\n",
       " \n",
       "         [[0.87058824, 0.86666667, 0.89803922],\n",
       "          [0.9372549 , 0.9372549 , 0.97647059],\n",
       "          [0.91372549, 0.91764706, 0.96470588],\n",
       "          ...,\n",
       "          [0.8745098 , 0.8745098 , 0.9254902 ],\n",
       "          [0.89019608, 0.89411765, 0.93333333],\n",
       "          [0.82352941, 0.82745098, 0.8627451 ]],\n",
       " \n",
       "         [[0.83529412, 0.80784314, 0.82745098],\n",
       "          [0.91764706, 0.90980392, 0.9372549 ],\n",
       "          [0.90588235, 0.91372549, 0.95686275],\n",
       "          ...,\n",
       "          [0.8627451 , 0.8627451 , 0.90980392],\n",
       "          [0.8627451 , 0.85882353, 0.90980392],\n",
       "          [0.79215686, 0.79607843, 0.84313725]],\n",
       " \n",
       "         ...,\n",
       " \n",
       "         [[0.58823529, 0.56078431, 0.52941176],\n",
       "          [0.54901961, 0.52941176, 0.49803922],\n",
       "          [0.51764706, 0.49803922, 0.47058824],\n",
       "          ...,\n",
       "          [0.87843137, 0.87058824, 0.85490196],\n",
       "          [0.90196078, 0.89411765, 0.88235294],\n",
       "          [0.94509804, 0.94509804, 0.93333333]],\n",
       " \n",
       "         [[0.5372549 , 0.51764706, 0.49411765],\n",
       "          [0.50980392, 0.49803922, 0.47058824],\n",
       "          [0.49019608, 0.4745098 , 0.45098039],\n",
       "          ...,\n",
       "          [0.70980392, 0.70588235, 0.69803922],\n",
       "          [0.79215686, 0.78823529, 0.77647059],\n",
       "          [0.83137255, 0.82745098, 0.81176471]],\n",
       " \n",
       "         [[0.47843137, 0.46666667, 0.44705882],\n",
       "          [0.4627451 , 0.45490196, 0.43137255],\n",
       "          [0.47058824, 0.45490196, 0.43529412],\n",
       "          ...,\n",
       "          [0.70196078, 0.69411765, 0.67843137],\n",
       "          [0.64313725, 0.64313725, 0.63529412],\n",
       "          [0.63921569, 0.63921569, 0.63137255]]]]),\n",
       " array([6, 9, 9, ..., 9, 1, 1], dtype=uint8),\n",
       " [5])"
      ]
     },
     "execution_count": 19,
     "metadata": {},
     "output_type": "execute_result"
    }
   ],
   "source": [
    "(X_train, y_train, [5])"
   ]
  },
  {
   "cell_type": "code",
   "execution_count": 20,
   "metadata": {},
   "outputs": [],
   "source": [
    "cnn = models.Sequential([ \n",
    "    layers.Conv2D(filters=32, kernel_size=(3, 3), activation = \"relu\", input_shape=(32, 32, 3)),\n",
    "    layers.MaxPooling2D((2, 2)),\n",
    "    \n",
    "    layers.Conv2D(filters=64, kernel_size=(3, 3), activation = \"relu\"),\n",
    "    layers.MaxPooling2D((2, 2)),\n",
    "    \n",
    "    layers.Flatten(),\n",
    "    layers.Dense(64, activation = \"relu\"),\n",
    "    layers.Dense(10, activation = \"softmax\")\n",
    "])"
   ]
  },
  {
   "cell_type": "code",
   "execution_count": 21,
   "metadata": {},
   "outputs": [],
   "source": [
    "cnn.compile(optimizer = \"adam\",\n",
    "              loss = \"sparse_categorical_crossentropy\",\n",
    "              metrics = [\"accuracy\"])"
   ]
  },
  {
   "cell_type": "code",
   "execution_count": 22,
   "metadata": {},
   "outputs": [
    {
     "name": "stdout",
     "output_type": "stream",
     "text": [
      "Epoch 1/15\n",
      "1563/1563 [==============================] - 26s 16ms/step - loss: 1.4637 - accuracy: 0.4759\n",
      "Epoch 2/15\n",
      "1563/1563 [==============================] - 26s 17ms/step - loss: 1.1031 - accuracy: 0.6100\n",
      "Epoch 3/15\n",
      "1563/1563 [==============================] - 32s 21ms/step - loss: 0.9867 - accuracy: 0.6545\n",
      "Epoch 4/15\n",
      "1563/1563 [==============================] - 36s 23ms/step - loss: 0.9071 - accuracy: 0.6836\n",
      "Epoch 5/15\n",
      "1563/1563 [==============================] - 40s 26ms/step - loss: 0.8386 - accuracy: 0.7079\n",
      "Epoch 6/15\n",
      "1563/1563 [==============================] - 36s 23ms/step - loss: 0.7858 - accuracy: 0.7264\n",
      "Epoch 7/15\n",
      "1563/1563 [==============================] - 38s 24ms/step - loss: 0.7395 - accuracy: 0.7406\n",
      "Epoch 8/15\n",
      "1563/1563 [==============================] - 33s 21ms/step - loss: 0.6965 - accuracy: 0.7589\n",
      "Epoch 9/15\n",
      "1563/1563 [==============================] - 39s 25ms/step - loss: 0.6565 - accuracy: 0.7699\n",
      "Epoch 10/15\n",
      "1563/1563 [==============================] - 34s 22ms/step - loss: 0.6219 - accuracy: 0.7817\n",
      "Epoch 11/15\n",
      "1563/1563 [==============================] - 34s 22ms/step - loss: 0.5901 - accuracy: 0.7919\n",
      "Epoch 12/15\n",
      "1563/1563 [==============================] - 35s 23ms/step - loss: 0.5595 - accuracy: 0.8026\n",
      "Epoch 13/15\n",
      "1563/1563 [==============================] - 35s 22ms/step - loss: 0.5273 - accuracy: 0.8146\n",
      "Epoch 14/15\n",
      "1563/1563 [==============================] - 35s 23ms/step - loss: 0.5014 - accuracy: 0.8220\n",
      "Epoch 15/15\n",
      "1563/1563 [==============================] - 36s 23ms/step - loss: 0.4758 - accuracy: 0.8313\n"
     ]
    },
    {
     "data": {
      "text/plain": [
       "<keras.callbacks.History at 0x228b9924730>"
      ]
     },
     "execution_count": 22,
     "metadata": {},
     "output_type": "execute_result"
    }
   ],
   "source": [
    "cnn.fit(X_train, y_train, epochs = 15)"
   ]
  },
  {
   "cell_type": "code",
   "execution_count": 23,
   "metadata": {},
   "outputs": [
    {
     "name": "stdout",
     "output_type": "stream",
     "text": [
      "313/313 [==============================] - 3s 9ms/step - loss: 1.0883 - accuracy: 0.6784\n"
     ]
    },
    {
     "data": {
      "text/plain": [
       "[1.0882939100265503, 0.6783999800682068]"
      ]
     },
     "execution_count": 23,
     "metadata": {},
     "output_type": "execute_result"
    }
   ],
   "source": [
    "cnn.evaluate(X_test,y_test)"
   ]
  },
  {
   "cell_type": "code",
   "execution_count": 24,
   "metadata": {},
   "outputs": [
    {
     "name": "stdout",
     "output_type": "stream",
     "text": [
      "313/313 [==============================] - 3s 9ms/step\n"
     ]
    }
   ],
   "source": [
    "y_pred = cnn.predict(X_test)"
   ]
  },
  {
   "cell_type": "code",
   "execution_count": 25,
   "metadata": {},
   "outputs": [
    {
     "data": {
      "text/plain": [
       "array([[5.58206625e-02, 2.58684508e-04, 1.89728048e-02, 8.28229129e-01,\n",
       "        1.27841288e-03, 8.13186020e-02, 1.36538604e-02, 3.38614744e-04,\n",
       "        6.41366796e-06, 1.22766491e-04],\n",
       "       [1.11692597e-03, 1.04698986e-01, 3.04424333e-07, 5.64680391e-08,\n",
       "        1.32834743e-10, 2.25921681e-09, 2.17248108e-09, 3.80054668e-12,\n",
       "        8.94125998e-01, 5.76996645e-05],\n",
       "       [3.66991535e-02, 2.14875743e-01, 8.54897685e-03, 7.86694139e-03,\n",
       "        8.49939606e-05, 1.75245383e-04, 1.01748132e-03, 2.75231923e-05,\n",
       "        7.28018045e-01, 2.68593524e-03],\n",
       "       [9.55308080e-01, 1.90182909e-04, 3.04105529e-03, 5.76653809e-04,\n",
       "        1.40102420e-04, 1.32076439e-05, 3.27012676e-05, 2.02279966e-06,\n",
       "        4.06895094e-02, 6.48607738e-06],\n",
       "       [1.23936547e-06, 6.91561155e-08, 6.45598695e-02, 2.42278531e-01,\n",
       "        3.72003093e-02, 5.45893470e-03, 6.50494695e-01, 5.16681837e-07,\n",
       "        5.87620525e-06, 9.43986334e-10],\n",
       "       [7.12098918e-05, 1.46323218e-04, 1.71643100e-03, 2.70501208e-02,\n",
       "        2.35074127e-04, 2.38729734e-02, 9.46784794e-01, 4.21680597e-05,\n",
       "        2.56081080e-06, 7.82259231e-05]], dtype=float32)"
      ]
     },
     "execution_count": 25,
     "metadata": {},
     "output_type": "execute_result"
    }
   ],
   "source": [
    "y_pred[:6]"
   ]
  },
  {
   "cell_type": "code",
   "execution_count": 26,
   "metadata": {},
   "outputs": [
    {
     "data": {
      "text/plain": [
       "[3, 8, 8, 0, 6, 6]"
      ]
     },
     "execution_count": 26,
     "metadata": {},
     "output_type": "execute_result"
    }
   ],
   "source": [
    "y_classes = [np.argmax(element) for element in y_pred]\n",
    "y_classes[:6]"
   ]
  },
  {
   "cell_type": "code",
   "execution_count": 27,
   "metadata": {},
   "outputs": [
    {
     "data": {
      "text/plain": [
       "array([3, 8, 8, 0, 6, 6], dtype=uint8)"
      ]
     },
     "execution_count": 27,
     "metadata": {},
     "output_type": "execute_result"
    }
   ],
   "source": [
    "y_test[:6]"
   ]
  },
  {
   "cell_type": "code",
   "execution_count": 28,
   "metadata": {},
   "outputs": [
    {
     "data": {
      "image/png": "[encoded data removed]",
      "text/plain": [
       "<Figure size 360x144 with 1 Axes>"
      ]
     },
     "metadata": {
      "needs_background": "light"
     },
     "output_type": "display_data"
    }
   ],
   "source": [
    "plot_sample(X_test, y_test,8)"
   ]
  },
  {
   "cell_type": "code",
   "execution_count": 29,
   "metadata": {},
   "outputs": [
    {
     "data": {
      "text/plain": [
       "'cat'"
      ]
     },
     "execution_count": 29,
     "metadata": {},
     "output_type": "execute_result"
    }
   ],
   "source": [
    "classes[y_classes[8]]"
   ]
  },
  {
   "cell_type": "code",
   "execution_count": null,
   "metadata": {},
   "outputs": [],
   "source": []
  },
  {
   "cell_type": "code",
   "execution_count": null,
   "metadata": {},
   "outputs": [],
   "source": []
  },
  {
   "cell_type": "markdown",
   "metadata": {},
   "source": [
    "<b>Fashion MNIST</b>"
   ]
  },
  {
   "cell_type": "code",
   "execution_count": 30,
   "metadata": {},
   "outputs": [],
   "source": [
    "import tensorflow as tf\n",
    "import numpy as np\n",
    "import matplotlib.pyplot as plt"
   ]
  },
  {
   "cell_type": "code",
   "execution_count": 31,
   "metadata": {},
   "outputs": [],
   "source": [
    "fashion_mnist = tf.keras.datasets.fashion_mnist\n",
    "\n",
    "(train_images, train_labels), (test_images, test_labels) = fashion_mnist.load_data()"
   ]
  },
  {
   "cell_type": "code",
   "execution_count": 32,
   "metadata": {},
   "outputs": [
    {
     "data": {
      "text/plain": [
       "(60000, 28, 28)"
      ]
     },
     "execution_count": 32,
     "metadata": {},
     "output_type": "execute_result"
    }
   ],
   "source": [
    "train_images.shape"
   ]
  },
  {
   "cell_type": "code",
   "execution_count": 33,
   "metadata": {},
   "outputs": [
    {
     "data": {
      "text/plain": [
       "(10000, 28, 28)"
      ]
     },
     "execution_count": 33,
     "metadata": {},
     "output_type": "execute_result"
    }
   ],
   "source": [
    "test_images.shape"
   ]
  },
  {
   "cell_type": "code",
   "execution_count": 34,
   "metadata": {},
   "outputs": [
    {
     "data": {
      "text/plain": [
       "(60000,)"
      ]
     },
     "execution_count": 34,
     "metadata": {},
     "output_type": "execute_result"
    }
   ],
   "source": [
    "train_labels.shape"
   ]
  },
  {
   "cell_type": "code",
   "execution_count": 35,
   "metadata": {},
   "outputs": [
    {
     "data": {
      "text/plain": [
       "array([[[  0,   0,   0, ...,   0,   0,   0],\n",
       "        [  0,   0,   0, ...,   0,   0,   0],\n",
       "        [  0,   0,   0, ...,   0,   0,   0],\n",
       "        ...,\n",
       "        [  0,   0,   0, ...,   0,   0,   0],\n",
       "        [  0,   0,   0, ...,   0,   0,   0],\n",
       "        [  0,   0,   0, ...,   0,   0,   0]],\n",
       "\n",
       "       [[  0,   0,   0, ...,   0,   0,   0],\n",
       "        [  0,   0,   0, ...,   0,   0,   0],\n",
       "        [  0,   0,   0, ...,   0,   0,   0],\n",
       "        ...,\n",
       "        [  0,   0,   0, ...,   0,   0,   0],\n",
       "        [  0,   0,   0, ...,   0,   0,   0],\n",
       "        [  0,   0,   0, ...,   0,   0,   0]],\n",
       "\n",
       "       [[  0,   0,   0, ...,   0,   0,   0],\n",
       "        [  0,   0,   0, ...,   0,   0,   0],\n",
       "        [  0,   0,   0, ...,   0,   0,   0],\n",
       "        ...,\n",
       "        [  0,   0,   0, ...,   0,   0,   0],\n",
       "        [  0,   0,   0, ...,   0,   0,   0],\n",
       "        [  0,   0,   0, ...,   0,   0,   0]],\n",
       "\n",
       "       ...,\n",
       "\n",
       "       [[  0,   0,   0, ...,   0,   0,   0],\n",
       "        [  0,   0,   0, ...,   0,   0,   0],\n",
       "        [  0,   0,   0, ...,   0,   0,   0],\n",
       "        ...,\n",
       "        [  0,   0,   0, ..., 180,   0,   0],\n",
       "        [  0,   0,   0, ...,  72,   0,   0],\n",
       "        [  0,   0,   0, ...,  70,   0,   0]],\n",
       "\n",
       "       [[  0,   0,   0, ...,   0,   0,   0],\n",
       "        [  0,   0,   0, ...,   0,   0,   0],\n",
       "        [  0,   0,   0, ...,  39,   1,   0],\n",
       "        ...,\n",
       "        [  0,   0,   0, ..., 238,   0,   0],\n",
       "        [  0,   0,   0, ..., 131,   0,   0],\n",
       "        [  0,   0,   0, ...,   0,   0,   0]],\n",
       "\n",
       "       [[  0,   0,   0, ...,   0,   0,   0],\n",
       "        [  0,   0,   0, ...,   0,   0,   0],\n",
       "        [  0,   0,   0, ...,   7,   0,   0],\n",
       "        ...,\n",
       "        [  0,   0,   0, ...,   0,   9,   0],\n",
       "        [  0,   0,   0, ...,   0,   3,   0],\n",
       "        [  0,   0,   0, ...,   0,   0,   0]]], dtype=uint8)"
      ]
     },
     "execution_count": 35,
     "metadata": {},
     "output_type": "execute_result"
    }
   ],
   "source": [
    "train_images[:10]"
   ]
  },
  {
   "cell_type": "code",
   "execution_count": 36,
   "metadata": {},
   "outputs": [
    {
     "data": {
      "text/plain": [
       "array([9, 0, 0, 3, 0, 2, 7, 2, 5, 5], dtype=uint8)"
      ]
     },
     "execution_count": 36,
     "metadata": {},
     "output_type": "execute_result"
    }
   ],
   "source": [
    "train_labels[:10]"
   ]
  },
  {
   "cell_type": "code",
   "execution_count": 37,
   "metadata": {},
   "outputs": [],
   "source": [
    "classes = [\"T-shirt/top\", \"Trouser\", \"Pullover\", \"Dress\", \"Coat\", \"Sandal\", \"Shirt\", \"Sneaker\", \"Bag\", \"Ankle boot\"]"
   ]
  },
  {
   "cell_type": "code",
   "execution_count": 38,
   "metadata": {},
   "outputs": [
    {
     "data": {
      "image/png": "[encoded data removed]",
      "text/plain": [
       "<Figure size 432x288 with 2 Axes>"
      ]
     },
     "metadata": {
      "needs_background": "light"
     },
     "output_type": "display_data"
    }
   ],
   "source": [
    "plt.figure()\n",
    "plt.imshow(X_train[10])\n",
    "plt.colorbar()\n",
    "plt.grid(False)\n",
    "plt.show()"
   ]
  },
  {
   "cell_type": "code",
   "execution_count": 39,
   "metadata": {},
   "outputs": [
    {
     "data": {
      "text/plain": [
       "(array([[[[0.23137255, 0.24313725, 0.24705882],\n",
       "          [0.16862745, 0.18039216, 0.17647059],\n",
       "          [0.19607843, 0.18823529, 0.16862745],\n",
       "          ...,\n",
       "          [0.61960784, 0.51764706, 0.42352941],\n",
       "          [0.59607843, 0.49019608, 0.4       ],\n",
       "          [0.58039216, 0.48627451, 0.40392157]],\n",
       " \n",
       "         [[0.0627451 , 0.07843137, 0.07843137],\n",
       "          [0.        , 0.        , 0.        ],\n",
       "          [0.07058824, 0.03137255, 0.        ],\n",
       "          ...,\n",
       "          [0.48235294, 0.34509804, 0.21568627],\n",
       "          [0.46666667, 0.3254902 , 0.19607843],\n",
       "          [0.47843137, 0.34117647, 0.22352941]],\n",
       " \n",
       "         [[0.09803922, 0.09411765, 0.08235294],\n",
       "          [0.0627451 , 0.02745098, 0.        ],\n",
       "          [0.19215686, 0.10588235, 0.03137255],\n",
       "          ...,\n",
       "          [0.4627451 , 0.32941176, 0.19607843],\n",
       "          [0.47058824, 0.32941176, 0.19607843],\n",
       "          [0.42745098, 0.28627451, 0.16470588]],\n",
       " \n",
       "         ...,\n",
       " \n",
       "         [[0.81568627, 0.66666667, 0.37647059],\n",
       "          [0.78823529, 0.6       , 0.13333333],\n",
       "          [0.77647059, 0.63137255, 0.10196078],\n",
       "          ...,\n",
       "          [0.62745098, 0.52156863, 0.2745098 ],\n",
       "          [0.21960784, 0.12156863, 0.02745098],\n",
       "          [0.20784314, 0.13333333, 0.07843137]],\n",
       " \n",
       "         [[0.70588235, 0.54509804, 0.37647059],\n",
       "          [0.67843137, 0.48235294, 0.16470588],\n",
       "          [0.72941176, 0.56470588, 0.11764706],\n",
       "          ...,\n",
       "          [0.72156863, 0.58039216, 0.36862745],\n",
       "          [0.38039216, 0.24313725, 0.13333333],\n",
       "          [0.3254902 , 0.20784314, 0.13333333]],\n",
       " \n",
       "         [[0.69411765, 0.56470588, 0.45490196],\n",
       "          [0.65882353, 0.50588235, 0.36862745],\n",
       "          [0.70196078, 0.55686275, 0.34117647],\n",
       "          ...,\n",
       "          [0.84705882, 0.72156863, 0.54901961],\n",
       "          [0.59215686, 0.4627451 , 0.32941176],\n",
       "          [0.48235294, 0.36078431, 0.28235294]]],\n",
       " \n",
       " \n",
       "        [[[0.60392157, 0.69411765, 0.73333333],\n",
       "          [0.49411765, 0.5372549 , 0.53333333],\n",
       "          [0.41176471, 0.40784314, 0.37254902],\n",
       "          ...,\n",
       "          [0.35686275, 0.37254902, 0.27843137],\n",
       "          [0.34117647, 0.35294118, 0.27843137],\n",
       "          [0.30980392, 0.31764706, 0.2745098 ]],\n",
       " \n",
       "         [[0.54901961, 0.62745098, 0.6627451 ],\n",
       "          [0.56862745, 0.6       , 0.60392157],\n",
       "          [0.49019608, 0.49019608, 0.4627451 ],\n",
       "          ...,\n",
       "          [0.37647059, 0.38823529, 0.30588235],\n",
       "          [0.30196078, 0.31372549, 0.24313725],\n",
       "          [0.27843137, 0.28627451, 0.23921569]],\n",
       " \n",
       "         [[0.54901961, 0.60784314, 0.64313725],\n",
       "          [0.54509804, 0.57254902, 0.58431373],\n",
       "          [0.45098039, 0.45098039, 0.43921569],\n",
       "          ...,\n",
       "          [0.30980392, 0.32156863, 0.25098039],\n",
       "          [0.26666667, 0.2745098 , 0.21568627],\n",
       "          [0.2627451 , 0.27058824, 0.21568627]],\n",
       " \n",
       "         ...,\n",
       " \n",
       "         [[0.68627451, 0.65490196, 0.65098039],\n",
       "          [0.61176471, 0.60392157, 0.62745098],\n",
       "          [0.60392157, 0.62745098, 0.66666667],\n",
       "          ...,\n",
       "          [0.16470588, 0.13333333, 0.14117647],\n",
       "          [0.23921569, 0.20784314, 0.22352941],\n",
       "          [0.36470588, 0.3254902 , 0.35686275]],\n",
       " \n",
       "         [[0.64705882, 0.60392157, 0.50196078],\n",
       "          [0.61176471, 0.59607843, 0.50980392],\n",
       "          [0.62352941, 0.63137255, 0.55686275],\n",
       "          ...,\n",
       "          [0.40392157, 0.36470588, 0.37647059],\n",
       "          [0.48235294, 0.44705882, 0.47058824],\n",
       "          [0.51372549, 0.4745098 , 0.51372549]],\n",
       " \n",
       "         [[0.63921569, 0.58039216, 0.47058824],\n",
       "          [0.61960784, 0.58039216, 0.47843137],\n",
       "          [0.63921569, 0.61176471, 0.52156863],\n",
       "          ...,\n",
       "          [0.56078431, 0.52156863, 0.54509804],\n",
       "          [0.56078431, 0.5254902 , 0.55686275],\n",
       "          [0.56078431, 0.52156863, 0.56470588]]],\n",
       " \n",
       " \n",
       "        [[[1.        , 1.        , 1.        ],\n",
       "          [0.99215686, 0.99215686, 0.99215686],\n",
       "          [0.99215686, 0.99215686, 0.99215686],\n",
       "          ...,\n",
       "          [0.99215686, 0.99215686, 0.99215686],\n",
       "          [0.99215686, 0.99215686, 0.99215686],\n",
       "          [0.99215686, 0.99215686, 0.99215686]],\n",
       " \n",
       "         [[1.        , 1.        , 1.        ],\n",
       "          [1.        , 1.        , 1.        ],\n",
       "          [1.        , 1.        , 1.        ],\n",
       "          ...,\n",
       "          [1.        , 1.        , 1.        ],\n",
       "          [1.        , 1.        , 1.        ],\n",
       "          [1.        , 1.        , 1.        ]],\n",
       " \n",
       "         [[1.        , 1.        , 1.        ],\n",
       "          [0.99607843, 0.99607843, 0.99607843],\n",
       "          [0.99607843, 0.99607843, 0.99607843],\n",
       "          ...,\n",
       "          [0.99607843, 0.99607843, 0.99607843],\n",
       "          [0.99607843, 0.99607843, 0.99607843],\n",
       "          [0.99607843, 0.99607843, 0.99607843]],\n",
       " \n",
       "         ...,\n",
       " \n",
       "         [[0.44313725, 0.47058824, 0.43921569],\n",
       "          [0.43529412, 0.4627451 , 0.43529412],\n",
       "          [0.41176471, 0.43921569, 0.41568627],\n",
       "          ...,\n",
       "          [0.28235294, 0.31764706, 0.31372549],\n",
       "          [0.28235294, 0.31372549, 0.30980392],\n",
       "          [0.28235294, 0.31372549, 0.30980392]],\n",
       " \n",
       "         [[0.43529412, 0.4627451 , 0.43137255],\n",
       "          [0.40784314, 0.43529412, 0.40784314],\n",
       "          [0.38823529, 0.41568627, 0.38431373],\n",
       "          ...,\n",
       "          [0.26666667, 0.29411765, 0.28627451],\n",
       "          [0.2745098 , 0.29803922, 0.29411765],\n",
       "          [0.30588235, 0.32941176, 0.32156863]],\n",
       " \n",
       "         [[0.41568627, 0.44313725, 0.41176471],\n",
       "          [0.38823529, 0.41568627, 0.38431373],\n",
       "          [0.37254902, 0.4       , 0.36862745],\n",
       "          ...,\n",
       "          [0.30588235, 0.33333333, 0.3254902 ],\n",
       "          [0.30980392, 0.33333333, 0.3254902 ],\n",
       "          [0.31372549, 0.3372549 , 0.32941176]]],\n",
       " \n",
       " \n",
       "        ...,\n",
       " \n",
       " \n",
       "        [[[0.1372549 , 0.69803922, 0.92156863],\n",
       "          [0.15686275, 0.69019608, 0.9372549 ],\n",
       "          [0.16470588, 0.69019608, 0.94509804],\n",
       "          ...,\n",
       "          [0.38823529, 0.69411765, 0.85882353],\n",
       "          [0.30980392, 0.57647059, 0.77254902],\n",
       "          [0.34901961, 0.58039216, 0.74117647]],\n",
       " \n",
       "         [[0.22352941, 0.71372549, 0.91764706],\n",
       "          [0.17254902, 0.72156863, 0.98039216],\n",
       "          [0.19607843, 0.71764706, 0.94117647],\n",
       "          ...,\n",
       "          [0.61176471, 0.71372549, 0.78431373],\n",
       "          [0.55294118, 0.69411765, 0.80784314],\n",
       "          [0.45490196, 0.58431373, 0.68627451]],\n",
       " \n",
       "         [[0.38431373, 0.77254902, 0.92941176],\n",
       "          [0.25098039, 0.74117647, 0.98823529],\n",
       "          [0.27058824, 0.75294118, 0.96078431],\n",
       "          ...,\n",
       "          [0.7372549 , 0.76470588, 0.80784314],\n",
       "          [0.46666667, 0.52941176, 0.57647059],\n",
       "          [0.23921569, 0.30980392, 0.35294118]],\n",
       " \n",
       "         ...,\n",
       " \n",
       "         [[0.28627451, 0.30980392, 0.30196078],\n",
       "          [0.20784314, 0.24705882, 0.26666667],\n",
       "          [0.21176471, 0.26666667, 0.31372549],\n",
       "          ...,\n",
       "          [0.06666667, 0.15686275, 0.25098039],\n",
       "          [0.08235294, 0.14117647, 0.2       ],\n",
       "          [0.12941176, 0.18823529, 0.19215686]],\n",
       " \n",
       "         [[0.23921569, 0.26666667, 0.29411765],\n",
       "          [0.21568627, 0.2745098 , 0.3372549 ],\n",
       "          [0.22352941, 0.30980392, 0.40392157],\n",
       "          ...,\n",
       "          [0.09411765, 0.18823529, 0.28235294],\n",
       "          [0.06666667, 0.1372549 , 0.20784314],\n",
       "          [0.02745098, 0.09019608, 0.1254902 ]],\n",
       " \n",
       "         [[0.17254902, 0.21960784, 0.28627451],\n",
       "          [0.18039216, 0.25882353, 0.34509804],\n",
       "          [0.19215686, 0.30196078, 0.41176471],\n",
       "          ...,\n",
       "          [0.10588235, 0.20392157, 0.30196078],\n",
       "          [0.08235294, 0.16862745, 0.25882353],\n",
       "          [0.04705882, 0.12156863, 0.19607843]]],\n",
       " \n",
       " \n",
       "        [[[0.74117647, 0.82745098, 0.94117647],\n",
       "          [0.72941176, 0.81568627, 0.9254902 ],\n",
       "          [0.7254902 , 0.81176471, 0.92156863],\n",
       "          ...,\n",
       "          [0.68627451, 0.76470588, 0.87843137],\n",
       "          [0.6745098 , 0.76078431, 0.87058824],\n",
       "          [0.6627451 , 0.76078431, 0.8627451 ]],\n",
       " \n",
       "         [[0.76078431, 0.82352941, 0.9372549 ],\n",
       "          [0.74901961, 0.81176471, 0.9254902 ],\n",
       "          [0.74509804, 0.80784314, 0.92156863],\n",
       "          ...,\n",
       "          [0.67843137, 0.75294118, 0.8627451 ],\n",
       "          [0.67058824, 0.74901961, 0.85490196],\n",
       "          [0.65490196, 0.74509804, 0.84705882]],\n",
       " \n",
       "         [[0.81568627, 0.85882353, 0.95686275],\n",
       "          [0.80392157, 0.84705882, 0.94117647],\n",
       "          [0.8       , 0.84313725, 0.9372549 ],\n",
       "          ...,\n",
       "          [0.68627451, 0.74901961, 0.85098039],\n",
       "          [0.6745098 , 0.74509804, 0.84705882],\n",
       "          [0.6627451 , 0.74901961, 0.84313725]],\n",
       " \n",
       "         ...,\n",
       " \n",
       "         [[0.81176471, 0.78039216, 0.70980392],\n",
       "          [0.79607843, 0.76470588, 0.68627451],\n",
       "          [0.79607843, 0.76862745, 0.67843137],\n",
       "          ...,\n",
       "          [0.52941176, 0.51764706, 0.49803922],\n",
       "          [0.63529412, 0.61960784, 0.58823529],\n",
       "          [0.65882353, 0.63921569, 0.59215686]],\n",
       " \n",
       "         [[0.77647059, 0.74509804, 0.66666667],\n",
       "          [0.74117647, 0.70980392, 0.62352941],\n",
       "          [0.70588235, 0.6745098 , 0.57647059],\n",
       "          ...,\n",
       "          [0.69803922, 0.67058824, 0.62745098],\n",
       "          [0.68627451, 0.6627451 , 0.61176471],\n",
       "          [0.68627451, 0.6627451 , 0.60392157]],\n",
       " \n",
       "         [[0.77647059, 0.74117647, 0.67843137],\n",
       "          [0.74117647, 0.70980392, 0.63529412],\n",
       "          [0.69803922, 0.66666667, 0.58431373],\n",
       "          ...,\n",
       "          [0.76470588, 0.72156863, 0.6627451 ],\n",
       "          [0.76862745, 0.74117647, 0.67058824],\n",
       "          [0.76470588, 0.74509804, 0.67058824]]],\n",
       " \n",
       " \n",
       "        [[[0.89803922, 0.89803922, 0.9372549 ],\n",
       "          [0.9254902 , 0.92941176, 0.96862745],\n",
       "          [0.91764706, 0.9254902 , 0.96862745],\n",
       "          ...,\n",
       "          [0.85098039, 0.85882353, 0.91372549],\n",
       "          [0.86666667, 0.8745098 , 0.91764706],\n",
       "          [0.87058824, 0.8745098 , 0.91372549]],\n",
       " \n",
       "         [[0.87058824, 0.86666667, 0.89803922],\n",
       "          [0.9372549 , 0.9372549 , 0.97647059],\n",
       "          [0.91372549, 0.91764706, 0.96470588],\n",
       "          ...,\n",
       "          [0.8745098 , 0.8745098 , 0.9254902 ],\n",
       "          [0.89019608, 0.89411765, 0.93333333],\n",
       "          [0.82352941, 0.82745098, 0.8627451 ]],\n",
       " \n",
       "         [[0.83529412, 0.80784314, 0.82745098],\n",
       "          [0.91764706, 0.90980392, 0.9372549 ],\n",
       "          [0.90588235, 0.91372549, 0.95686275],\n",
       "          ...,\n",
       "          [0.8627451 , 0.8627451 , 0.90980392],\n",
       "          [0.8627451 , 0.85882353, 0.90980392],\n",
       "          [0.79215686, 0.79607843, 0.84313725]],\n",
       " \n",
       "         ...,\n",
       " \n",
       "         [[0.58823529, 0.56078431, 0.52941176],\n",
       "          [0.54901961, 0.52941176, 0.49803922],\n",
       "          [0.51764706, 0.49803922, 0.47058824],\n",
       "          ...,\n",
       "          [0.87843137, 0.87058824, 0.85490196],\n",
       "          [0.90196078, 0.89411765, 0.88235294],\n",
       "          [0.94509804, 0.94509804, 0.93333333]],\n",
       " \n",
       "         [[0.5372549 , 0.51764706, 0.49411765],\n",
       "          [0.50980392, 0.49803922, 0.47058824],\n",
       "          [0.49019608, 0.4745098 , 0.45098039],\n",
       "          ...,\n",
       "          [0.70980392, 0.70588235, 0.69803922],\n",
       "          [0.79215686, 0.78823529, 0.77647059],\n",
       "          [0.83137255, 0.82745098, 0.81176471]],\n",
       " \n",
       "         [[0.47843137, 0.46666667, 0.44705882],\n",
       "          [0.4627451 , 0.45490196, 0.43137255],\n",
       "          [0.47058824, 0.45490196, 0.43529412],\n",
       "          ...,\n",
       "          [0.70196078, 0.69411765, 0.67843137],\n",
       "          [0.64313725, 0.64313725, 0.63529412],\n",
       "          [0.63921569, 0.63921569, 0.63137255]]]]),\n",
       " array([6, 9, 9, ..., 9, 1, 1], dtype=uint8),\n",
       " [10])"
      ]
     },
     "execution_count": 39,
     "metadata": {},
     "output_type": "execute_result"
    }
   ],
   "source": [
    "(X_train, y_train, [10])"
   ]
  },
  {
   "cell_type": "code",
   "execution_count": 40,
   "metadata": {},
   "outputs": [],
   "source": [
    "X_train = X_train / 255.0\n",
    "\n",
    "X_test = X_test / 255.0"
   ]
  },
  {
   "cell_type": "code",
   "execution_count": 41,
   "metadata": {},
   "outputs": [
    {
     "data": {
      "image/png": "[encoded data removed]",
      "text/plain": [
       "<Figure size 360x720 with 20 Axes>"
      ]
     },
     "metadata": {},
     "output_type": "display_data"
    }
   ],
   "source": [
    "plt.figure(figsize = (5, 10))\n",
    "\n",
    "for i in range(20):\n",
    "    plt.subplot(5, 5, i+1)\n",
    "    plt.xticks([])\n",
    "    plt.yticks([])\n",
    "    plt.grid(False)\n",
    "    plt.imshow(train_images[i])\n",
    "    plt.xlabel(classes[train_labels[i]])\n",
    "plt.show()"
   ]
  },
  {
   "cell_type": "code",
   "execution_count": 42,
   "metadata": {},
   "outputs": [],
   "source": [
    "model = tf.keras.Sequential([\n",
    "    tf.keras.layers.Flatten(input_shape=(28, 28)),\n",
    "    tf.keras.layers.Dense(128, activation='relu'),\n",
    "    tf.keras.layers.Dense(10)\n",
    "])"
   ]
  },
  {
   "cell_type": "code",
   "execution_count": 43,
   "metadata": {},
   "outputs": [],
   "source": [
    "model.compile(optimizer = \"adam\",\n",
    "              loss = tf.keras.losses.SparseCategoricalCrossentropy(from_logits = True),\n",
    "              metrics=[\"accuracy\"])"
   ]
  },
  {
   "cell_type": "code",
   "execution_count": 44,
   "metadata": {},
   "outputs": [
    {
     "name": "stdout",
     "output_type": "stream",
     "text": [
      "Epoch 1/20\n",
      "1875/1875 [==============================] - 6s 3ms/step - loss: 3.3690 - accuracy: 0.6888\n",
      "Epoch 2/20\n",
      "1875/1875 [==============================] - 5s 2ms/step - loss: 0.6976 - accuracy: 0.7415\n",
      "Epoch 3/20\n",
      "1875/1875 [==============================] - 3s 2ms/step - loss: 0.6365 - accuracy: 0.7626\n",
      "Epoch 4/20\n",
      "1875/1875 [==============================] - 3s 2ms/step - loss: 0.5982 - accuracy: 0.7771\n",
      "Epoch 5/20\n",
      "1875/1875 [==============================] - 3s 2ms/step - loss: 0.5490 - accuracy: 0.8029\n",
      "Epoch 6/20\n",
      "1875/1875 [==============================] - 3s 2ms/step - loss: 0.5127 - accuracy: 0.8228\n",
      "Epoch 7/20\n",
      "1875/1875 [==============================] - 3s 2ms/step - loss: 0.5030 - accuracy: 0.8263\n",
      "Epoch 8/20\n",
      "1875/1875 [==============================] - 4s 2ms/step - loss: 0.4902 - accuracy: 0.8309\n",
      "Epoch 9/20\n",
      "1875/1875 [==============================] - 3s 2ms/step - loss: 0.4846 - accuracy: 0.8324\n",
      "Epoch 10/20\n",
      "1875/1875 [==============================] - 5s 2ms/step - loss: 0.4842 - accuracy: 0.8335\n",
      "Epoch 11/20\n",
      "1875/1875 [==============================] - 4s 2ms/step - loss: 0.4754 - accuracy: 0.8360\n",
      "Epoch 12/20\n",
      "1875/1875 [==============================] - 4s 2ms/step - loss: 0.4675 - accuracy: 0.8388\n",
      "Epoch 13/20\n",
      "1875/1875 [==============================] - 3s 2ms/step - loss: 0.4638 - accuracy: 0.8392\n",
      "Epoch 14/20\n",
      "1875/1875 [==============================] - 4s 2ms/step - loss: 0.4660 - accuracy: 0.8398\n",
      "Epoch 15/20\n",
      "1875/1875 [==============================] - 4s 2ms/step - loss: 0.4593 - accuracy: 0.8419\n",
      "Epoch 16/20\n",
      "1875/1875 [==============================] - 5s 2ms/step - loss: 0.4720 - accuracy: 0.8399\n",
      "Epoch 17/20\n",
      "1875/1875 [==============================] - 4s 2ms/step - loss: 0.4550 - accuracy: 0.8442\n",
      "Epoch 18/20\n",
      "1875/1875 [==============================] - 3s 1ms/step - loss: 0.4599 - accuracy: 0.8413\n",
      "Epoch 19/20\n",
      "1875/1875 [==============================] - 3s 2ms/step - loss: 0.4467 - accuracy: 0.8459\n",
      "Epoch 20/20\n",
      "1875/1875 [==============================] - 5s 2ms/step - loss: 0.4461 - accuracy: 0.8455\n"
     ]
    },
    {
     "data": {
      "text/plain": [
       "<keras.callbacks.History at 0x22906e92c10>"
      ]
     },
     "execution_count": 44,
     "metadata": {},
     "output_type": "execute_result"
    }
   ],
   "source": [
    "model.fit(train_images, train_labels, epochs = 20)\n"
   ]
  },
  {
   "cell_type": "code",
   "execution_count": 45,
   "metadata": {},
   "outputs": [
    {
     "name": "stdout",
     "output_type": "stream",
     "text": [
      "313/313 [==============================] - 1s 2ms/step - loss: 0.5768 - accuracy: 0.8033\n"
     ]
    },
    {
     "data": {
      "text/plain": [
       "[0.5767979621887207, 0.8033000230789185]"
      ]
     },
     "execution_count": 45,
     "metadata": {},
     "output_type": "execute_result"
    }
   ],
   "source": [
    "model.evaluate(test_images,test_labels)"
   ]
  },
  {
   "cell_type": "code",
   "execution_count": 46,
   "metadata": {},
   "outputs": [
    {
     "name": "stdout",
     "output_type": "stream",
     "text": [
      "313/313 [==============================] - 0s 1ms/step\n"
     ]
    }
   ],
   "source": [
    "prediction = model.predict(test_images)"
   ]
  },
  {
   "cell_type": "code",
   "execution_count": 47,
   "metadata": {},
   "outputs": [
    {
     "data": {
      "text/plain": [
       "array([[ -38.750835 ,   20.870192 , -217.34789  ,   16.322361 ,\n",
       "        -186.78377  ,   54.25183  , -136.9245   ,   54.964138 ,\n",
       "          32.175858 ,   59.902832 ],\n",
       "       [   7.756601 ,    6.345602 ,   12.354261 ,    7.258774 ,\n",
       "           9.737389 ,  -33.520752 ,   10.888173 , -165.74918  ,\n",
       "           2.971644 ,  -32.593384 ],\n",
       "       [ 118.47221  ,  151.29126  ,   62.790585 ,  126.85719  ,\n",
       "         113.60918  ,  -67.06069  ,  109.41269  , -658.7454   ,\n",
       "         109.55555  , -381.9534   ],\n",
       "       [ 112.36636  ,  179.7366   ,   70.22263  ,  137.67906  ,\n",
       "         122.884415 ,  -57.41133  ,  116.91693  , -632.9451   ,\n",
       "          90.89701  , -476.01068  ],\n",
       "       [   5.932323 ,    2.4957683,    6.8935065,    4.725526 ,\n",
       "           3.6889095,   -6.4714956,    6.7341638,  -61.98672  ,\n",
       "           3.3309255,   -8.641227 ],\n",
       "       [  93.77914  ,  117.5229   ,   50.651863 ,   98.70926  ,\n",
       "          90.09835  ,  -75.84     ,   87.30076  , -644.4699   ,\n",
       "          84.491    , -320.84177  ]], dtype=float32)"
      ]
     },
     "execution_count": 47,
     "metadata": {},
     "output_type": "execute_result"
    }
   ],
   "source": [
    "prediction[:6]"
   ]
  },
  {
   "cell_type": "code",
   "execution_count": 48,
   "metadata": {},
   "outputs": [
    {
     "data": {
      "text/plain": [
       "1"
      ]
     },
     "execution_count": 48,
     "metadata": {},
     "output_type": "execute_result"
    }
   ],
   "source": [
    "np.argmax(prediction[3])"
   ]
  },
  {
   "cell_type": "code",
   "execution_count": 49,
   "metadata": {},
   "outputs": [
    {
     "data": {
      "text/plain": [
       "1"
      ]
     },
     "execution_count": 49,
     "metadata": {},
     "output_type": "execute_result"
    }
   ],
   "source": [
    "test_labels[3]"
   ]
  },
  {
   "cell_type": "code",
   "execution_count": 50,
   "metadata": {},
   "outputs": [],
   "source": [
    "def plot_image(i, predictions_array, true_label, img):\n",
    "  true_label, img = true_label[i], img[i]\n",
    "  plt.grid(False)\n",
    "  plt.xticks([])\n",
    "  plt.yticks([])\n",
    "\n",
    "  plt.imshow(img, cmap=plt.cm.binary)\n",
    "\n",
    "  predicted_label = np.argmax(predictions_array)\n",
    "  if predicted_label == true_label:\n",
    "    color = \"blue\"\n",
    "  else:\n",
    "    color = \"red\"\n",
    "\n",
    "  plt.xlabel(\"{} {:2.0f}% ({})\".format(classes[predicted_label],\n",
    "                                100*np.max(predictions_array),\n",
    "                                classes[true_label]),\n",
    "                                color=color)\n",
    "\n",
    "def plot_value_array(i, predictions_array, true_label):\n",
    "  true_label = true_label[i]\n",
    "  plt.grid(False)\n",
    "  plt.xticks(range(10))\n",
    "  plt.yticks([])\n",
    "  thisplot = plt.bar(range(10), predictions_array, color = \"#777777\")\n",
    "  plt.ylim([0, 1])\n",
    "  predicted_label = np.argmax(predictions_array)\n",
    "\n",
    "  thisplot[predicted_label].set_color(\"red\")\n",
    "  thisplot[true_label].set_color(\"blue\")"
   ]
  },
  {
   "cell_type": "code",
   "execution_count": 51,
   "metadata": {},
   "outputs": [
    {
     "data": {
      "image/png": "[encoded data removed]",
      "text/plain": [
       "<Figure size 432x216 with 2 Axes>"
      ]
     },
     "metadata": {
      "needs_background": "light"
     },
     "output_type": "display_data"
    }
   ],
   "source": [
    "i = 3\n",
    "plt.figure(figsize=(6,3))\n",
    "plt.subplot(1,2,1)\n",
    "plot_image(i, prediction[i], test_labels, test_images)\n",
    "plt.subplot(1,2,2)\n",
    "plot_value_array(i, prediction[i],  test_labels)\n",
    "plt.show()"
   ]
  },
  {
   "cell_type": "code",
   "execution_count": 52,
   "metadata": {},
   "outputs": [
    {
     "data": {
      "image/png": "[encoded data removed]",
      "text/plain": [
       "<Figure size 432x216 with 2 Axes>"
      ]
     },
     "metadata": {
      "needs_background": "light"
     },
     "output_type": "display_data"
    }
   ],
   "source": [
    "i = 8\n",
    "plt.figure(figsize=(6,3))\n",
    "plt.subplot(1,2,1)\n",
    "plot_image(i, prediction[i], test_labels, test_images)\n",
    "plt.subplot(1,2,2)\n",
    "plot_value_array(i, prediction[i],  test_labels)\n",
    "plt.show()"
   ]
  },
  {
   "cell_type": "code",
   "execution_count": null,
   "metadata": {},
   "outputs": [],
   "source": []
  },
  {
   "cell_type": "code",
   "execution_count": null,
   "metadata": {},
   "outputs": [],
   "source": []
  },
  {
   "cell_type": "code",
   "execution_count": null,
   "metadata": {},
   "outputs": [],
   "source": []
  },
  {
   "cell_type": "code",
   "execution_count": null,
   "metadata": {},
   "outputs": [],
   "source": []
  }
 ],
 "metadata": {
  "kernelspec": {
   "display_name": "Python 3",
   "language": "python",
   "name": "python3"
  },
  "language_info": {
   "codemirror_mode": {
    "name": "ipython",
    "version": 3
   },
   "file_extension": ".py",
   "mimetype": "text/x-python",
   "name": "python",
   "nbconvert_exporter": "python",
   "pygments_lexer": "ipython3",
   "version": "3.8.3"
  }
 },
 "nbformat": 4,
 "nbformat_minor": 4
}
